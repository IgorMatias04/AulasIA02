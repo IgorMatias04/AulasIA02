{
  "nbformat": 4,
  "nbformat_minor": 0,
  "metadata": {
    "colab": {
      "provenance": [],
      "authorship_tag": "ABX9TyOENypngbVs6Oyg+mJn54ZL",
      "include_colab_link": true
    },
    "kernelspec": {
      "name": "python3",
      "display_name": "Python 3"
    },
    "language_info": {
      "name": "python"
    }
  },
  "cells": [
    {
      "cell_type": "markdown",
      "metadata": {
        "id": "view-in-github",
        "colab_type": "text"
      },
      "source": [
        "<a href=\"https://colab.research.google.com/github/IgorMatias04/AulasIA02/blob/main/AulaIA2_4_1.ipynb\" target=\"_parent\"><img src=\"https://colab.research.google.com/assets/colab-badge.svg\" alt=\"Open In Colab\"/></a>"
      ]
    },
    {
      "cell_type": "code",
      "execution_count": 1,
      "metadata": {
        "colab": {
          "base_uri": "https://localhost:8080/"
        },
        "id": "mB2Lq7JJubVh",
        "outputId": "0b1fc392-1d38-497f-e923-ef3101ba744e"
      },
      "outputs": [
        {
          "output_type": "stream",
          "name": "stdout",
          "text": [
            "Digite a senha: 12345\n",
            "Senha incorreta. Tente novamente\n",
            "Digite a senha: abcde\n",
            "Senha incorreta. Tente novamente\n",
            "Digite a senha: 54321\n",
            "Acesso liberado \n"
          ]
        }
      ],
      "source": [
        "senha = \"54321\"\n",
        "leitura =\" \"\n",
        "while (leitura != senha):\n",
        "  leitura = input(\"Digite a senha: \")\n",
        "  if leitura == senha : print('Acesso liberado ')\n",
        "  else: print('Senha incorreta. Tente novamente')"
      ]
    },
    {
      "cell_type": "code",
      "source": [
        "contador = 0\n",
        "somador = 0\n",
        "while contador < 5:\n",
        "  contador = contador + 1\n",
        "  valor = float(input('Digite o '+str(contador)+'o valor: '))\n",
        "  somador = somador + valor\n",
        "  print('Soma = ', somador)"
      ],
      "metadata": {
        "colab": {
          "base_uri": "https://localhost:8080/"
        },
        "id": "mg7Lj7JEuiSN",
        "outputId": "25f5d67e-8746-4662-948c-10e3f01383f8"
      },
      "execution_count": 2,
      "outputs": [
        {
          "output_type": "stream",
          "name": "stdout",
          "text": [
            "Digite o 1o valor: 1\n",
            "Soma =  1.0\n",
            "Digite o 2o valor: 2\n",
            "Soma =  3.0\n",
            "Digite o 3o valor: 3\n",
            "Soma =  6.0\n",
            "Digite o 4o valor: 4\n",
            "Soma =  10.0\n",
            "Digite o 5o valor: 5\n",
            "Soma =  15.0\n"
          ]
        }
      ]
    },
    {
      "cell_type": "code",
      "source": [],
      "metadata": {
        "id": "GlWX1uFVupUT"
      },
      "execution_count": null,
      "outputs": []
    }
  ]
}
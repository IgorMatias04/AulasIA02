{
  "nbformat": 4,
  "nbformat_minor": 0,
  "metadata": {
    "colab": {
      "provenance": [],
      "authorship_tag": "ABX9TyN+YS7QBSUIo0EE6IRDC8X8",
      "include_colab_link": true
    },
    "kernelspec": {
      "name": "python3",
      "display_name": "Python 3"
    },
    "language_info": {
      "name": "python"
    }
  },
  "cells": [
    {
      "cell_type": "markdown",
      "metadata": {
        "id": "view-in-github",
        "colab_type": "text"
      },
      "source": [
        "<a href=\"https://colab.research.google.com/github/IgorMatias04/AulasIA02/blob/main/ExercicioIA_01.ipynb\" target=\"_parent\"><img src=\"https://colab.research.google.com/assets/colab-badge.svg\" alt=\"Open In Colab\"/></a>"
      ]
    },
    {
      "cell_type": "code",
      "source": [
        "m = float(input(\"Digite a massa em quilogramas\"))\n",
        "h = float(input(\"Digite a altura em metros\"))\n",
        "t = float(input(\"Digite o tempo em segundos\"))\n",
        "\n",
        "cavalos=(m*h/t)/745.6999\n",
        "\n",
        "print(\"A quantidade de cavalos necessários é\", cavalos)"
      ],
      "metadata": {
        "id": "A_TUSbOLfky4",
        "colab": {
          "base_uri": "https://localhost:8080/"
        },
        "outputId": "3ad2a16b-acd2-4b43-a562-32f6351b3600"
      },
      "execution_count": 7,
      "outputs": [
        {
          "output_type": "stream",
          "name": "stdout",
          "text": [
            "Digite a massa em quilogramas3200\n",
            "Digite a altura em metros800\n",
            "Digite o tempo em segundos1800\n",
            "A quantidade de cavalos necessários é 1.9072313436306243\n"
          ]
        }
      ]
    },
    {
      "cell_type": "code",
      "source": [],
      "metadata": {
        "id": "Ghhpd6NFhTbj"
      },
      "execution_count": null,
      "outputs": []
    }
  ]
}
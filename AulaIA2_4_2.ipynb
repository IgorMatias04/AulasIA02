{
  "nbformat": 4,
  "nbformat_minor": 0,
  "metadata": {
    "colab": {
      "provenance": [],
      "authorship_tag": "ABX9TyP0TYQ+yf85b8B5q4yje4NV",
      "include_colab_link": true
    },
    "kernelspec": {
      "name": "python3",
      "display_name": "Python 3"
    },
    "language_info": {
      "name": "python"
    }
  },
  "cells": [
    {
      "cell_type": "markdown",
      "metadata": {
        "id": "view-in-github",
        "colab_type": "text"
      },
      "source": [
        "<a href=\"https://colab.research.google.com/github/IgorMatias04/AulasIA02/blob/main/AulaIA2_4_2.ipynb\" target=\"_parent\"><img src=\"https://colab.research.google.com/assets/colab-badge.svg\" alt=\"Open In Colab\"/></a>"
      ]
    },
    {
      "cell_type": "code",
      "execution_count": 1,
      "metadata": {
        "colab": {
          "base_uri": "https://localhost:8080/"
        },
        "id": "zaTvbnLJuydd",
        "outputId": "bbe744b8-4380-4afe-f52e-cad41963e0a0"
      },
      "outputs": [
        {
          "output_type": "stream",
          "name": "stdout",
          "text": [
            "Soma =  70\n"
          ]
        }
      ],
      "source": [
        "S=0\n",
        "for x in range(1,20,3):\n",
        "  S = S+x\n",
        "print('Soma = ',S)"
      ]
    },
    {
      "cell_type": "code",
      "source": [
        "Lista_notas= [3.4,6.6,8,9,10,9.5,8.8,4.3]\n",
        "soma=0\n",
        "for nota in Lista_notas:\n",
        "  soma = soma+nota\n",
        "média = soma/len(Lista_notas)\n",
        "print('Média = ', '{:.4f}'.format(média))"
      ],
      "metadata": {
        "colab": {
          "base_uri": "https://localhost:8080/"
        },
        "id": "8p2cjukmu2fO",
        "outputId": "19084b34-7983-4178-ee5c-a3f9d40dc327"
      },
      "execution_count": 2,
      "outputs": [
        {
          "output_type": "stream",
          "name": "stdout",
          "text": [
            "Média =  7.4500\n"
          ]
        }
      ]
    },
    {
      "cell_type": "code",
      "source": [
        "def CalcMedia(lista):\n",
        "  soma=0\n",
        "  for nota in lista:\n",
        "    soma = soma+nota\n",
        "  return soma/len(lista)\n",
        "  \n",
        "Lista_notas= [3.4,6.6,8,9,10,9.5,8.8,4.3]\n",
        "media = CalcMedia(Lista_notas)\n",
        "print('Média = ', '{:.4f}'.format(media))"
      ],
      "metadata": {
        "colab": {
          "base_uri": "https://localhost:8080/"
        },
        "id": "DcxsNsxfu8CQ",
        "outputId": "3e519827-1734-408c-b481-75a2a9ececce"
      },
      "execution_count": 3,
      "outputs": [
        {
          "output_type": "stream",
          "name": "stdout",
          "text": [
            "Média =  7.4500\n"
          ]
        }
      ]
    },
    {
      "cell_type": "code",
      "source": [
        "def categoria(idade):\n",
        "\n",
        "  if idade < 3:\n",
        "    ctg = 'Bebê'\n",
        "  elif idade < 10:\n",
        "    ctg = 'Infantil'\n",
        "  elif idade < 14:\n",
        "    ctg = 'Junior'\n",
        "  elif idade < 18:\n",
        "    ctg = 'Adolescente'\n",
        "  elif idade < 30:\n",
        "    ctg = 'Jovem'\n",
        "  else:\n",
        "    ctg = 'Adulto'\n",
        "  return ctg\n",
        "  \n",
        "idd = int(input(\"Digite sua idade:\"))\n",
        "print(\"Sua categoria é:\", categoria(idd))"
      ],
      "metadata": {
        "colab": {
          "base_uri": "https://localhost:8080/"
        },
        "id": "dt40ysVlvB6Q",
        "outputId": "549d0116-f963-48d4-a7eb-dbe2bf606838"
      },
      "execution_count": 4,
      "outputs": [
        {
          "output_type": "stream",
          "name": "stdout",
          "text": [
            "Digite sua idade:19\n",
            "Sua categoria é: Jovem\n"
          ]
        }
      ]
    },
    {
      "cell_type": "code",
      "source": [
        "def MaiorValor(lista) :\n",
        "  if len(lista) > 0:\n",
        "    maior = lista[0]\n",
        "  else:\n",
        "    maior = 0;\n",
        "  for valor in lista:\n",
        "    if valor > maior:\n",
        "      maior = valor\n",
        "  return maior\n",
        "\n",
        "ListaNotas= [3.4,6.6,8,9,10,9.5,8.8,4.3]\n",
        "resultado = MaiorValor(ListaNotas)\n",
        "print(resultado)"
      ],
      "metadata": {
        "colab": {
          "base_uri": "https://localhost:8080/"
        },
        "id": "UMzyAZAFvzIn",
        "outputId": "6ecc97b0-3a50-4f4b-c55e-ea18b4f0d26d"
      },
      "execution_count": 7,
      "outputs": [
        {
          "output_type": "stream",
          "name": "stdout",
          "text": [
            "10\n"
          ]
        }
      ]
    },
    {
      "cell_type": "code",
      "source": [
        "def Leitura(lista,qtd):\n",
        "  for i in range(1,qtd+1):\n",
        "    lista.append(int(input(\"Digite o valor do elemento \")))\n",
        "    \n",
        "ListaNotas= []\n",
        "Leitura(ListaNotas,5)\n",
        "print(ListaNotas)"
      ],
      "metadata": {
        "colab": {
          "base_uri": "https://localhost:8080/"
        },
        "id": "RSxTwU6Lv9ng",
        "outputId": "0e8556c0-d409-427d-e78f-567f64bf5de2"
      },
      "execution_count": 8,
      "outputs": [
        {
          "output_type": "stream",
          "name": "stdout",
          "text": [
            "Digite o valor do elemento 1\n",
            "Digite o valor do elemento 2\n",
            "Digite o valor do elemento 3\n",
            "Digite o valor do elemento 4\n",
            "Digite o valor do elemento 5\n",
            "[1, 2, 3, 4, 5]\n"
          ]
        }
      ]
    },
    {
      "cell_type": "code",
      "source": [
        "def cria():\n",
        "  d = {}\n",
        "  return d\n",
        "\n",
        "def inclui(d):\n",
        "  nome = input(\"Digite o nome a incluir: \")\n",
        "  if nome in d:\n",
        "    print(\"Nome já existe não pode ser incluído\")\n",
        "  else:\n",
        "    fone = input(\"Digite o fone: \")\n",
        "    d[nome]=fone\n",
        "\n",
        "def consulta(d):\n",
        "  nome = input(\"Digite o nome a consultar: \")\n",
        "  print(\"Telefone: \",d.get(nome, 'Não disponível'))\n",
        "\n",
        "def altera(d):\n",
        "  nome = input(\"Digite o nome do fone a alterar: \")\n",
        "  print(\"Telefone atual: \",d.get(nome, 'Não disponível'))\n",
        "  if nome in d:\n",
        "    fone = input(\"Digite o novo fone: \")\n",
        "    d[nome]=fone\n",
        "    print(\"Telefone alterado!\")\n",
        "  else:\n",
        "    print(\"Telefone não pode ser alterado!\")\n",
        "\n",
        "def exclui(d):\n",
        "  nome = input(\"Digite o nome a excluir: \")\n",
        "  if nome in d:\n",
        "    del d[nome]\n",
        "    print(\"Nome e fone excluídos!\")\n",
        "  else:\n",
        "    print(\"Nome Inexistente!\")\n",
        "\n",
        "def mostra(d):\n",
        "  print(\"Agenda:\")\n",
        "  for nome in d.keys():\n",
        "    print(nome,d[nome])\n",
        "\n",
        "agenda = cria()\n",
        "inclui(agenda)\n",
        "inclui(agenda)\n",
        "inclui(agenda)\n",
        "consulta(agenda)\n",
        "altera(agenda)\n",
        "exclui(agenda)\n",
        "mostra(agenda)"
      ],
      "metadata": {
        "colab": {
          "base_uri": "https://localhost:8080/"
        },
        "id": "mF72qziJwSZT",
        "outputId": "601e31f1-687d-4671-da4d-309b4a98bfab"
      },
      "execution_count": 10,
      "outputs": [
        {
          "output_type": "stream",
          "name": "stdout",
          "text": [
            "Digite o nome a incluir: Marcelo\n",
            "Digite o fone: 11111\n",
            "Digite o nome a incluir: Helena\n",
            "Digite o fone: 22222\n",
            "Digite o nome a incluir: Marcelo\n",
            "Nome já existe não pode ser incluído\n",
            "Digite o nome a consultar: Cynthia\n",
            "Telefone:  Não disponível\n",
            "Digite o nome do fone a alterar: Helena\n",
            "Telefone atual:  22222\n",
            "Digite o novo fone: 33333\n",
            "Telefone alterado!\n",
            "Digite o nome a excluir: Cynthia\n",
            "Nome Inexistente!\n",
            "Agenda:\n",
            "Marcelo 11111\n",
            "Helena 33333\n"
          ]
        }
      ]
    },
    {
      "cell_type": "code",
      "source": [
        "agenda = cria()\n",
        "opc = 10\n",
        "while opc != 0:\n",
        "  opc = int(input(\"Digite 0.Sair,1.Inc,2.Con,3.Alt,4.Exc,5.Most:\"))\n",
        "  if opc == 1:\n",
        "    inclui(agenda)\n",
        "  elif opc == 2:\n",
        "    consulta(agenda)\n",
        "  elif opc == 3:\n",
        "    altera(agenda)\n",
        "  elif opc == 4:\n",
        "    exclui(agenda)\n",
        "  elif opc == 5:\n",
        "    mostra(agenda)\n",
        "  elif opc == 0:\n",
        "    print(\"Bye!\")\n",
        "  else:\n",
        "    print(\"Opção inválida!\")"
      ],
      "metadata": {
        "colab": {
          "base_uri": "https://localhost:8080/"
        },
        "id": "zxJt5rS8wwd1",
        "outputId": "e2f3416e-8320-4707-f2d8-8b35afa813e7"
      },
      "execution_count": 11,
      "outputs": [
        {
          "output_type": "stream",
          "name": "stdout",
          "text": [
            "Digite 0.Sair,1.Inc,2.Con,3.Alt,4.Exc,5.Most:0\n",
            "Bye!\n"
          ]
        }
      ]
    },
    {
      "cell_type": "code",
      "source": [],
      "metadata": {
        "id": "3aPAdZAOxLIF"
      },
      "execution_count": null,
      "outputs": []
    }
  ]
}
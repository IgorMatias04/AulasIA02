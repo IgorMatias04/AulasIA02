{
  "nbformat": 4,
  "nbformat_minor": 0,
  "metadata": {
    "colab": {
      "provenance": [],
      "authorship_tag": "ABX9TyNWOlAuGRT4wirHB8LZ4wVX",
      "include_colab_link": true
    },
    "kernelspec": {
      "name": "python3",
      "display_name": "Python 3"
    },
    "language_info": {
      "name": "python"
    }
  },
  "cells": [
    {
      "cell_type": "markdown",
      "metadata": {
        "id": "view-in-github",
        "colab_type": "text"
      },
      "source": [
        "<a href=\"https://colab.research.google.com/github/IgorMatias04/AulasIA02/blob/main/AulaIA2_3.ipynb\" target=\"_parent\"><img src=\"https://colab.research.google.com/assets/colab-badge.svg\" alt=\"Open In Colab\"/></a>"
      ]
    },
    {
      "cell_type": "code",
      "source": [
        "nota = float(input(\"Digite sua nota na disciplina:\"))\n",
        "if nota < 6.0:\n",
        "  print(\"Reprovado!\")"
      ],
      "metadata": {
        "colab": {
          "base_uri": "https://localhost:8080/"
        },
        "id": "ZKnkcYEbqfhZ",
        "outputId": "7db2f73a-103f-4504-9b55-b2d9a1bc7fbd"
      },
      "execution_count": null,
      "outputs": [
        {
          "output_type": "stream",
          "name": "stdout",
          "text": [
            "Digite sua nota na disciplina:5.5\n",
            "Reprovado!\n"
          ]
        }
      ]
    },
    {
      "cell_type": "code",
      "source": [
        "nota = float(input(\"Digite sua nota na disciplina:\"))\n",
        "if nota >= 6.0:\n",
        "  print(\"Aprovado!\")\n",
        "else:\n",
        "  print(\"Reprovado!\")"
      ],
      "metadata": {
        "colab": {
          "base_uri": "https://localhost:8080/"
        },
        "id": "9GBEOUAVqt-Z",
        "outputId": "431eb3dd-bddf-4f3d-b16f-c8bf7b73ecb0"
      },
      "execution_count": null,
      "outputs": [
        {
          "output_type": "stream",
          "name": "stdout",
          "text": [
            "Digite sua nota na disciplina:5.66\n",
            "Reprovado!\n"
          ]
        }
      ]
    },
    {
      "cell_type": "code",
      "source": [
        "idade = int(input(\"Digite sua idade:\"))\n",
        "if idade < 3:\n",
        "  print('Bebê')\n",
        "elif idade < 10:\n",
        "  print('Infantil')\n",
        "elif idade < 14:\n",
        "  print('Junior')\n",
        "elif idade < 18:\n",
        "  print('Adolescente')\n",
        "elif idade < 30:\n",
        "  print('Jovem')\n",
        "else:\n",
        "  print('Adulto')"
      ],
      "metadata": {
        "colab": {
          "base_uri": "https://localhost:8080/"
        },
        "id": "vyAFxcLbt0S5",
        "outputId": "aa1e64cb-1193-4f9f-f135-db0843c17dcc"
      },
      "execution_count": 6,
      "outputs": [
        {
          "output_type": "stream",
          "name": "stdout",
          "text": [
            "Digite sua idade:19\n",
            "Jovem\n"
          ]
        }
      ]
    },
    {
      "cell_type": "code",
      "source": [],
      "metadata": {
        "id": "g6ISI_ntt0r5"
      },
      "execution_count": null,
      "outputs": []
    }
  ]
}
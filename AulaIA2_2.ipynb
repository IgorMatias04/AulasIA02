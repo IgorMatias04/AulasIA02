{
  "nbformat": 4,
  "nbformat_minor": 0,
  "metadata": {
    "colab": {
      "provenance": [],
      "authorship_tag": "ABX9TyOQ5Xts/GxLJL65uSSi1h7C",
      "include_colab_link": true
    },
    "kernelspec": {
      "name": "python3",
      "display_name": "Python 3"
    },
    "language_info": {
      "name": "python"
    }
  },
  "cells": [
    {
      "cell_type": "markdown",
      "metadata": {
        "id": "view-in-github",
        "colab_type": "text"
      },
      "source": [
        "<a href=\"https://colab.research.google.com/github/IgorMatias04/AulasIA02/blob/main/AulaIA2_2.ipynb\" target=\"_parent\"><img src=\"https://colab.research.google.com/assets/colab-badge.svg\" alt=\"Open In Colab\"/></a>"
      ]
    },
    {
      "cell_type": "code",
      "execution_count": 1,
      "metadata": {
        "colab": {
          "base_uri": "https://localhost:8080/"
        },
        "id": "eRveyCGhnD-h",
        "outputId": "313f0186-df64-4b1d-8c07-6340c9453fdf"
      },
      "outputs": [
        {
          "output_type": "stream",
          "name": "stdout",
          "text": [
            "Digite seu nome: Igor\n",
            "Digite seu sobrenome: Matias\n",
            "seu nome completo eh:  Igor Matias\n"
          ]
        }
      ],
      "source": [
        "def leitura():\n",
        "    nome = input(\"Digite seu nome: \")\n",
        "    sobrenome = input(\"Digite seu sobrenome: \")\n",
        "    nomecompleto = nome+\" \"+sobrenome\n",
        "    print(\"seu nome completo eh: \", nomecompleto)\n",
        "\n",
        "leitura()"
      ]
    },
    {
      "cell_type": "code",
      "source": [
        "def potencia(a,b):\n",
        "  c=a**b\n",
        "  return c\n",
        "\n",
        "x = int (input(\"Digite um valor:\"))\n",
        "y = int(input(\"Digite o valor de potência:\"))\n",
        "print(potencia(x,y))"
      ],
      "metadata": {
        "colab": {
          "base_uri": "https://localhost:8080/"
        },
        "id": "wAJgVlb3nij7",
        "outputId": "875e4985-6e33-402d-b371-1cf2292fd24b"
      },
      "execution_count": 4,
      "outputs": [
        {
          "output_type": "stream",
          "name": "stdout",
          "text": [
            "Digite um valor:3\n",
            "Digite o valor de potência:4\n",
            "81\n"
          ]
        }
      ]
    },
    {
      "cell_type": "code",
      "source": [
        "def soma(a,b):\n",
        "  c=a+b\n",
        "  return c\n",
        "\n",
        "x = float(input(\"Digite um valor:\"))\n",
        "y = float(input(\"Digite um valor:\"))\n",
        "print(soma(x,y))"
      ],
      "metadata": {
        "colab": {
          "base_uri": "https://localhost:8080/"
        },
        "id": "1PoeetvHoQVz",
        "outputId": "2a990247-6c45-4c0d-adf8-68c64aa2b4ec"
      },
      "execution_count": 6,
      "outputs": [
        {
          "output_type": "stream",
          "name": "stdout",
          "text": [
            "Digite um valor:3.24\n",
            "Digite um valor:5.4\n",
            "8.64\n"
          ]
        }
      ]
    },
    {
      "cell_type": "code",
      "source": [
        "s = 'Teste String'\n",
        "# alinha a direita com 20 espaços em branco\n",
        "print(\"{0:>20}\".format(s))\n",
        "# alinha a direita com 20 símbolos #\n",
        "print(\"{0:#>20}\".format(s))\n",
        "# alinha ao centro com 10 “ “ a esquerda e 10 “ “ a direita\n",
        "print(\"{0:^20}\".format(s))\n",
        "# imprime só as primeiras cinco letras\n",
        "print(\"{0:.5}\".format(s))"
      ],
      "metadata": {
        "colab": {
          "base_uri": "https://localhost:8080/"
        },
        "id": "6UD4OwCxp06h",
        "outputId": "6aed9739-c102-4f05-f60a-0d3880fc2389"
      },
      "execution_count": 10,
      "outputs": [
        {
          "output_type": "stream",
          "name": "stdout",
          "text": [
            "        Teste String\n",
            "########Teste String\n",
            "    Teste String    \n",
            "Teste\n"
          ]
        }
      ]
    },
    {
      "cell_type": "code",
      "source": [
        "print(\"{0:4}\".format(-123))\n",
        "# aparece '-123'\n",
        "print(\"{0:4}\".format(123))\n",
        "# aparece ' 123'\n",
        "print(\"{0:4.2f}\".format(33.3287))\n",
        "# aparece '33.33'\n",
        "print(\"{0:+4.2f}\".format(33.3287))\n",
        "# aparece '+33.33'\n",
        "print(\"{0:+4.2e}\".format(33.3287))\n",
        "# aparece '+3.33e+01'\n",
        "print(\"{0:b}\".format(123))\n",
        "# aparece '1111011'\n"
      ],
      "metadata": {
        "colab": {
          "base_uri": "https://localhost:8080/"
        },
        "id": "7aFB3eQSqIPA",
        "outputId": "6fbc228a-ba43-430c-91a0-b92137b0eb52"
      },
      "execution_count": 11,
      "outputs": [
        {
          "output_type": "stream",
          "name": "stdout",
          "text": [
            "-123\n",
            " 123\n",
            "33.33\n",
            "+33.33\n",
            "+3.33e+01\n",
            "1111011\n"
          ]
        }
      ]
    },
    {
      "cell_type": "code",
      "source": [],
      "metadata": {
        "id": "oZwQ8C4mqNzg"
      },
      "execution_count": null,
      "outputs": []
    }
  ]
}
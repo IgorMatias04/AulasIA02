{
  "nbformat": 4,
  "nbformat_minor": 0,
  "metadata": {
    "colab": {
      "provenance": [],
      "authorship_tag": "ABX9TyMvfx8X/dFjkRkXm0M+D94L",
      "include_colab_link": true
    },
    "kernelspec": {
      "name": "python3",
      "display_name": "Python 3"
    },
    "language_info": {
      "name": "python"
    }
  },
  "cells": [
    {
      "cell_type": "markdown",
      "metadata": {
        "id": "view-in-github",
        "colab_type": "text"
      },
      "source": [
        "<a href=\"https://colab.research.google.com/github/IgorMatias04/AulasIA02/blob/main/ExercicioIA_3.ipynb\" target=\"_parent\"><img src=\"https://colab.research.google.com/assets/colab-badge.svg\" alt=\"Open In Colab\"/></a>"
      ]
    },
    {
      "cell_type": "code",
      "source": [
        "cont = 1\n",
        "while (cont <= 20):\n",
        "  m = float(input(\"Digite seu peso em quilogramas: \"))\n",
        "  a = float(input(\"Digite sua altura em metros: \"))\n",
        "\n",
        "  IMC = m/a**2\n",
        "\n",
        "  print(\"Seu IMC é igual a: \", IMC)\n",
        "\n",
        "  if IMC < 18.5:\n",
        "    print(\"Abaixo do peso\")\n",
        "  elif IMC > 18.6:\n",
        "    print(\"Peso ideal\")\n",
        "  elif IMC > 25:\n",
        "    print(\"Levemente acima do peso\") \n",
        "  elif IMC > 30:\n",
        "    print(\"Obesidade I\")\n",
        "  elif IMC > 35:\n",
        "    print(\"Obesidade II\")\n",
        "  else:\n",
        "    print(\"Obesidade III\")\n",
        "\n",
        "  cont = cont + 1"
      ],
      "metadata": {
        "id": "WKOtzIvKtk6o"
      },
      "execution_count": null,
      "outputs": []
    }
  ]
}
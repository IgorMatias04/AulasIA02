{
  "nbformat": 4,
  "nbformat_minor": 0,
  "metadata": {
    "colab": {
      "provenance": [],
      "authorship_tag": "ABX9TyNA6mfcYIxwEPD7FQpg9aFg",
      "include_colab_link": true
    },
    "kernelspec": {
      "name": "python3",
      "display_name": "Python 3"
    },
    "language_info": {
      "name": "python"
    }
  },
  "cells": [
    {
      "cell_type": "markdown",
      "metadata": {
        "id": "view-in-github",
        "colab_type": "text"
      },
      "source": [
        "<a href=\"https://colab.research.google.com/github/IgorMatias04/AulasIA02/blob/main/ExercicioIA_4.ipynb\" target=\"_parent\"><img src=\"https://colab.research.google.com/assets/colab-badge.svg\" alt=\"Open In Colab\"/></a>"
      ]
    },
    {
      "cell_type": "code",
      "execution_count": 2,
      "metadata": {
        "colab": {
          "base_uri": "https://localhost:8080/"
        },
        "id": "sDpB8m_RkY8c",
        "outputId": "bfebe8d9-8b07-41bc-d725-f568f10bd72b"
      },
      "outputs": [
        {
          "output_type": "stream",
          "name": "stdout",
          "text": [
            "Informe o número de funcionários: 2\n",
            "Informe o número de identificação do funcionário 1: 0\n",
            "Informe a quantidade de horas trabalhadas pelo funcionário 1: 8\n",
            "Informe o salário por hora do funcionário 1: 2000\n",
            "O funcionário 0 recebeu R$16000.00\n",
            "Informe o número de identificação do funcionário 2: 1\n",
            "Informe a quantidade de horas trabalhadas pelo funcionário 2: 6\n",
            "Informe o salário por hora do funcionário 2: 1400\n",
            "O funcionário 1 recebeu R$8400.00\n",
            "O valor total pago a todos os funcionários foi de R$0.00\n",
            "A quantidade de notas e moedas necessárias para o pagamento é:\n",
            "244 nota de cem reais\n"
          ]
        }
      ],
      "source": [
        "# Definindo o valor de cada nota e moeda\n",
        "valor_notas_moedas = {\n",
        "    100: \"nota de cem reais\",\n",
        "    50: \"nota de cinquenta reais\",\n",
        "    20: \"nota de vinte reais\",\n",
        "    10: \"nota de dez reais\",\n",
        "    5: \"nota de cinco reais\",\n",
        "    2: \"nota de dois reais\",\n",
        "    1: \"moeda de um real\"\n",
        "}\n",
        "\n",
        "# Coletando os dados de cada funcionário\n",
        "numero_funcionarios = int(input(\"Informe o número de funcionários: \"));\n",
        "\n",
        "salario_total = 0;\n",
        "\n",
        "for i in range(numero_funcionarios):\n",
        "    numero_identificacao = input(f\"Informe o número de identificação do funcionário {i+1}: \");\n",
        "    horas_trabalhadas = int(input(f\"Informe a quantidade de horas trabalhadas pelo funcionário {i+1}: \"));\n",
        "    salario_por_hora = float(input(f\"Informe o salário por hora do funcionário {i+1}: \"));\n",
        "    \n",
        "    salario_funcionario = horas_trabalhadas * salario_por_hora;\n",
        "    \n",
        "    salario_total += salario_funcionario;\n",
        "    \n",
        "    print(f\"O funcionário {numero_identificacao} recebeu R${salario_funcionario:.2f}\");\n",
        "\n",
        "# Calculando a quantidade de notas e moedas necessárias para o pagamento\n",
        "quantidade_notas_moedas = {};\n",
        "\n",
        "for valor in valor_notas_moedas:\n",
        "    quantidade_notas_moedas[valor] = int(salario_total // valor);\n",
        "    salario_total -= quantidade_notas_moedas[valor] * valor;\n",
        "\n",
        "# Exibindo o resultado\n",
        "print(f\"O valor total pago a todos os funcionários foi de R${salario_total:.2f}\");\n",
        "\n",
        "print(\"A quantidade de notas e moedas necessárias para o pagamento é:\");\n",
        "\n",
        "for valor, nome_nota_moeda in valor_notas_moedas.items():\n",
        "    if quantidade_notas_moedas[valor] > 0:\n",
        "        print(f\"{quantidade_notas_moedas[valor]} {nome_nota_moeda}\");"
      ]
    },
    {
      "cell_type": "code",
      "source": [],
      "metadata": {
        "id": "ZDb6_Vmlkedf"
      },
      "execution_count": null,
      "outputs": []
    }
  ]
}